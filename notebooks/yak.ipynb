{
 "cells": [
  {
   "cell_type": "code",
   "execution_count": null,
   "id": "1bbc6e78-5571-488b-880d-1b06f1bcb5bb",
   "metadata": {},
   "outputs": [],
   "source": [
    "from pathlib import Path\n",
    "import pandas as pd"
   ]
  },
  {
   "cell_type": "code",
   "execution_count": null,
   "id": "8cd27c6f-7f40-4e1d-a7f4-7dca69216387",
   "metadata": {},
   "outputs": [],
   "source": [
    "directory = Path(\"../data/processed/yak\")\n",
    "yak = directory.glob(\"*/asm-sr.qv.txt\")\n",
    "\n",
    "result = {}\n",
    "for data in yak:\n",
    "    genome_id = data.parent.stem\n",
    "    with open(data, \"r\") as f:\n",
    "        value = {}\n",
    "        data = f.readlines()\n",
    "        row, raw_quality_value, adjusted_quality_value = data[-1].strip().split(\"\\t\")\n",
    "        #print(data[-4].split())\n",
    "        #print(data[-3].split())\n",
    "        #print(data[-2].split())\n",
    "        #print(genome_id, raw_quality_value, adjusted_quality_value)\n",
    "        value[\"genome_id\"] = genome_id\n",
    "        value[\"QV\"] = adjusted_quality_value\n",
    "        result[genome_id] = value\n",
    "\n",
    "df = pd.DataFrame.from_dict(result).T"
   ]
  },
  {
   "cell_type": "code",
   "execution_count": null,
   "id": "b0fd8179-e566-4da3-82d1-ec95ef7cc47e",
   "metadata": {},
   "outputs": [],
   "source": [
    "df[~(df.QV == \"inf\")].QV.astype(\"float\").describe()"
   ]
  },
  {
   "cell_type": "code",
   "execution_count": null,
   "id": "33141166-b199-4205-a522-c75d28a278be",
   "metadata": {},
   "outputs": [],
   "source": [
    "df[(df.QV == \"inf\")]"
   ]
  },
  {
   "cell_type": "code",
   "execution_count": null,
   "id": "1223c928-8c4c-4e56-b1b7-14a1c563022d",
   "metadata": {},
   "outputs": [],
   "source": [
    "len(df[(df.QV == \"inf\")])"
   ]
  },
  {
   "cell_type": "code",
   "execution_count": null,
   "id": "cf24dc9d-db91-4bd5-8c85-5709291bff22",
   "metadata": {},
   "outputs": [],
   "source": [
    "df.to_csv(\"qv_yak.tsv\", sep=\"\\t\", index=False)"
   ]
  }
 ],
 "metadata": {
  "kernelspec": {
   "display_name": "Python 3 (ipykernel)",
   "language": "python",
   "name": "python3"
  },
  "language_info": {
   "codemirror_mode": {
    "name": "ipython",
    "version": 3
   },
   "file_extension": ".py",
   "mimetype": "text/x-python",
   "name": "python",
   "nbconvert_exporter": "python",
   "pygments_lexer": "ipython3",
   "version": "3.11.10"
  }
 },
 "nbformat": 4,
 "nbformat_minor": 5
}
