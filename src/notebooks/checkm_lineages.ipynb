{
 "cells": [
  {
   "cell_type": "markdown",
   "id": "a30e3dad-a235-465f-aedd-0a97a1fba263",
   "metadata": {},
   "source": [
    "## Extracting CheckM lineages for each genomes"
   ]
  },
  {
   "cell_type": "code",
   "execution_count": null,
   "id": "dcddba16-0050-4e31-a53b-9ce08c3b6e71",
   "metadata": {},
   "outputs": [],
   "source": [
    "import json\n",
    "import pandas as pd\n",
    "from pathlib import Path"
   ]
  },
  {
   "cell_type": "code",
   "execution_count": null,
   "id": "95162a54-2610-4b33-bf84-37c69ac5ae57",
   "metadata": {},
   "outputs": [],
   "source": [
    "json_dir = \"../../data/interim/checkm/bacillales_gbk/json\"\n",
    "json_files = [i for i in Path(json_dir).glob(\"*.json\")]"
   ]
  },
  {
   "cell_type": "code",
   "execution_count": null,
   "id": "5cc8966a-a931-40e8-8554-c8f5d9c0c7d7",
   "metadata": {},
   "outputs": [],
   "source": [
    "result = {}\n",
    "json_file = json_files[0]\n",
    "for num, json_file in enumerate(json_files):\n",
    "    with open(json_file, \"r\") as f:\n",
    "        data = json.load(f)\n",
    "        lineage = data['marker lineage']\n",
    "        genome = json_file.stem\n",
    "        result[num] = {\"genome_id\" : genome,\n",
    "                       \"checkm_lineage\" : lineage}\n",
    "    "
   ]
  },
  {
   "cell_type": "code",
   "execution_count": null,
   "id": "8636dc96-415b-48b3-9fd4-8ac2c91699d6",
   "metadata": {},
   "outputs": [],
   "source": [
    "df_checkm_lineages = pd.DataFrame.from_dict(result).T"
   ]
  },
  {
   "cell_type": "code",
   "execution_count": null,
   "id": "63ec4c48-7501-44d8-8dac-5562af7730f9",
   "metadata": {},
   "outputs": [],
   "source": [
    "checkm_taxa = Path(\"../../resources/checkm/taxon_marker_sets.tsv\", sep=\"\\t\")\n",
    "checkm_taxa = pd.read_csv(checkm_taxa, sep=\"\\t\", header=None)"
   ]
  },
  {
   "cell_type": "code",
   "execution_count": null,
   "id": "bb069bd7-ea4d-4ef5-9209-d0596d93c37b",
   "metadata": {},
   "outputs": [],
   "source": [
    "checkm_taxa"
   ]
  },
  {
   "cell_type": "code",
   "execution_count": null,
   "id": "783731df-f470-441e-ab37-6f567c244d2f",
   "metadata": {},
   "outputs": [],
   "source": [
    "lineage_table = []\n",
    "for taxa in df_checkm_lineages.checkm_lineage.unique():\n",
    "    level, value = taxa.split(\"__\")\n",
    "    subset = checkm_taxa[(checkm_taxa[0].str.startswith(level)) & (checkm_taxa[1] == value)]\n",
    "    lineage_table.append(subset)"
   ]
  },
  {
   "cell_type": "code",
   "execution_count": null,
   "id": "e9fd686b-950d-4273-ad98-a1c6f31eb627",
   "metadata": {},
   "outputs": [],
   "source": [
    "pd.concat(lineage_table)"
   ]
  },
  {
   "cell_type": "code",
   "execution_count": null,
   "id": "a444ef51-10da-4b1f-b3aa-1a61f5b1d925",
   "metadata": {},
   "outputs": [],
   "source": [
    "pd.read_csv(\"../../resources/checkm/genome_tree/genome_tree.metadata.tsv\", sep=\"\\t\")"
   ]
  },
  {
   "cell_type": "code",
   "execution_count": null,
   "id": "10d07560-1224-491c-9389-dd667023589a",
   "metadata": {},
   "outputs": [],
   "source": [
    "# Read the file line by line\n",
    "with open(\"../../data/checkm/checkm_table.txt\", \"r\") as f:\n",
    "    lines = f.readlines()\n",
    "\n",
    "# Split each line using whitespace\n",
    "data = [line.strip().split() for line in lines]\n",
    "\n",
    "# Create a DataFrame from the split lines\n",
    "df = pd.DataFrame(data)\n",
    "\n",
    "# Assign column names\n",
    "df.columns = ['genome_id', 'marker_lineage', 'UID', 'n_genomes', 'n_markers', 'n_marker_sets', '0', '1', '2', '3', '4', '5+', 'Completeness', 'Contamination', 'Strain heterogeneity']\n",
    "\n",
    "df['UID'] = df['UID'].str.replace(\"(\",\"\")\n",
    "df['UID'] = df['UID'].str.replace(\")\",\"\")"
   ]
  },
  {
   "cell_type": "code",
   "execution_count": null,
   "id": "091b97ac-564e-47cb-9804-5f538c2ac8e6",
   "metadata": {},
   "outputs": [],
   "source": [
    "outfile = Path(\"../../results/tables/checkm_table.tsv\")\n",
    "outfile.parent.mkdir(parents=True, exist_ok=True)\n",
    "df.to_csv(outfile, sep=\"\\t\", index=False)"
   ]
  },
  {
   "cell_type": "code",
   "execution_count": null,
   "id": "748f58ac-904c-49a0-82aa-e199c4da78a7",
   "metadata": {},
   "outputs": [],
   "source": [
    "df_tree_checkm = pd.read_csv(\"../../resources/checkm/genome_tree/genome_tree.metadata.tsv\", sep=\"\\t\")\n",
    "outfile = Path(\"../../results/tables/checkm_reference.tsv\")\n",
    "outfile.parent.mkdir(parents=True, exist_ok=True)\n",
    "df_tree_checkm[df_tree_checkm.UID.isin(df.UID)].to_csv(outfile, sep=\"\\t\", index=False)"
   ]
  }
 ],
 "metadata": {
  "kernelspec": {
   "display_name": "Python 3 (ipykernel)",
   "language": "python",
   "name": "python3"
  },
  "language_info": {
   "codemirror_mode": {
    "name": "ipython",
    "version": 3
   },
   "file_extension": ".py",
   "mimetype": "text/x-python",
   "name": "python",
   "nbconvert_exporter": "python",
   "pygments_lexer": "ipython3",
   "version": "3.11.10"
  }
 },
 "nbformat": 4,
 "nbformat_minor": 5
}
