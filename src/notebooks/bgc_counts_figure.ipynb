{
 "cells": [
  {
   "cell_type": "markdown",
   "metadata": {},
   "source": [
    "# Boxplot of antiSMASH Regions per Genus"
   ]
  },
  {
   "cell_type": "markdown",
   "metadata": {},
   "source": [
    "Importing packages:"
   ]
  },
  {
   "cell_type": "code",
   "execution_count": null,
   "metadata": {},
   "outputs": [],
   "source": [
    "import numpy as np\n",
    "import seaborn as sns\n",
    "import pandas as pd\n",
    "import matplotlib.pyplot as plt\n",
    "import colorcet as cc\n",
    "from matplotlib.ticker import MaxNLocator"
   ]
  },
  {
   "cell_type": "markdown",
   "metadata": {},
   "source": [
    "Loading genus_bgccount table as dataframe:"
   ]
  },
  {
   "cell_type": "code",
   "execution_count": null,
   "metadata": {},
   "outputs": [],
   "source": [
    "regions_df = pd.read_csv(\"../../data/bgcflow_output/genus_bgccount.csv\", names=['genome_id','genus','regions'])\n",
    "regions_df['genus'] = regions_df['genus'].str.replace('g__','')"
   ]
  },
  {
   "cell_type": "markdown",
   "metadata": {},
   "source": [
    "Combining the GTDB-Tk genera Bacillus and Bacillus_A, Paenibacillus and Paenibacillus_A, and Fictibacillus and Fictibacillus_C:"
   ]
  },
  {
   "cell_type": "code",
   "execution_count": null,
   "metadata": {},
   "outputs": [],
   "source": [
    "regions_df[\"genus\"] = regions_df[\"genus\"].replace(\"Bacillus_A\", \"Bacillus\")\n",
    "regions_df[\"genus\"] = regions_df[\"genus\"].replace(\"Paenibacillus_A\", \"Paenibacillus\")\n",
    "regions_df[\"genus\"] = regions_df[\"genus\"].replace(\"Fictibacillus_C\", \"Fictibacillus\")"
   ]
  },
  {
   "cell_type": "markdown",
   "metadata": {},
   "source": [
    "Listing the desired order of the genera for the figure:"
   ]
  },
  {
   "cell_type": "code",
   "execution_count": null,
   "metadata": {},
   "outputs": [],
   "source": [
    "order_list = ['Peribacillus','Cytobacillus','Mesobacillus','Neobacillus','Ferdinandcohnia', 'Priestia','Siminovitchia','Rossellomorea','Ureibacillus','Lysinibacillus','Halobacillus','Virgibacillus','Fictibacillus','Brevibacillus','Paenibacillus','Bacillus']"
   ]
  },
  {
   "cell_type": "markdown",
   "metadata": {},
   "source": [
    "Plotting figure:"
   ]
  },
  {
   "cell_type": "code",
   "execution_count": null,
   "metadata": {},
   "outputs": [],
   "source": [
    "# Choosing box color pallete and figure theme\n",
    "custom_palette = sns.color_palette(\"husl\", len(order_list))\n",
    "sns.set_theme(style=\"white\")\n",
    "\n",
    "# Setting figure size\n",
    "fig, ax = plt.subplots(figsize=(6,8))\n",
    "\n",
    "# Making boxplot of dataframe with seaborn sns\n",
    "sns.boxplot(data=regions_df, y='genus', x='regions', order=order_list, palette=custom_palette,\n",
    "            flierprops={'marker':'d', 'markersize':4, 'markerfacecolor':'black', 'markeredgecolor':'black'})\n",
    "\n",
    "# Adding number of observations per genera to each box\n",
    "medians = regions_df.groupby(['genus'])['regions'].min().reindex(order_list).values\n",
    "nobs = regions_df['genus'].value_counts().reindex(order_list).values\n",
    "nobs = [str(x) for x in nobs.tolist()]\n",
    "nobs = [\"n: \" + i + \" \" for i in nobs] \n",
    "pos = range(len(nobs))\n",
    "\n",
    "for tick, label in zip(pos, ax.get_yticklabels()):\n",
    "    ax.text(medians[tick], tick, nobs[tick], color='black', verticalalignment=\"center\", horizontalalignment='right')\n",
    "sns.despine()\n",
    "\n",
    "# Setting and formatting figure text and axis\n",
    "ax.set_title(\"Distribution of antiSMASH regions by genus\", size=16)\n",
    "ax.set_xlabel(\"antiSMASH regions (count)\", size=14)\n",
    "ax.set_ylabel(\"\")\n",
    "plt.yticks(fontsize=14)\n",
    "plt.xticks(fontsize=14)\n",
    "ax.set_xlim(0, 18)\n",
    "ax.xaxis.set_major_locator(MaxNLocator(integer=True))\n",
    "ax.yaxis.set_label_coords(-0.1,1.02)\n",
    "\n",
    "# Making genus names itallic\n",
    "for label in ax.get_yticklabels():\n",
    "    label.set_fontstyle('italic')\n",
    "\n",
    "# Saving figure\n",
    "fig.savefig(\"../../results/figures/regions.png\", bbox_inches=\"tight\")"
   ]
  }
 ],
 "metadata": {
  "kernelspec": {
   "display_name": "Python 3 (ipykernel)",
   "language": "python",
   "name": "python3"
  },
  "language_info": {
   "codemirror_mode": {
    "name": "ipython",
    "version": 3
   },
   "file_extension": ".py",
   "mimetype": "text/x-python",
   "name": "python",
   "nbconvert_exporter": "python",
   "pygments_lexer": "ipython3",
   "version": "3.11.10"
  }
 },
 "nbformat": 4,
 "nbformat_minor": 4
}
